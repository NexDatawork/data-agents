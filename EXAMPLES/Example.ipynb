{
  "cells": [
    {
      "cell_type": "markdown",
      "source": [
        "# Introduction\n",
        "\n",
        "NexDatawork is an AI data agent for data engineering and analytics without writing code.\n",
        "\n",
        "## Prerequisites\n",
        "\n",
        " - Node.js\n",
        " - Supabase\n",
        " - OpenAI\n",
        "\n",
        "\n",
        " Before starting your work install all the required tools:"
      ],
      "metadata": {
        "id": "w8J6iWjvjZJd"
      },
      "id": "w8J6iWjvjZJd"
    },
    {
      "cell_type": "code",
      "source": [
        "!pip install langchain_openai\n",
        "!pip install langchain\n",
        "!pip install langchain_experimental"
      ],
      "metadata": {
        "id": "L0KlJIwcdCed"
      },
      "execution_count": null,
      "outputs": [],
      "id": "L0KlJIwcdCed"
    },
    {
      "cell_type": "markdown",
      "source": [
        "Import all the required libraries"
      ],
      "metadata": {
        "id": "uiqjnn4LkaGJ"
      },
      "id": "uiqjnn4LkaGJ"
    },
    {
      "cell_type": "code",
      "execution_count": null,
      "metadata": {
        "id": "u3Py4qe6PlP7"
      },
      "outputs": [],
      "source": [
        "import os\n",
        "import pandas as pd\n",
        "from IPython.display import Markdown, HTML, display\n",
        "from langchain_openai import AzureChatOpenAI\n",
        "from langchain.callbacks.streaming_stdout import StreamingStdOutCallbackHandler\n",
        "from langchain.agents.agent_types import AgentType\n",
        "from langchain_experimental.agents.agent_toolkits import create_pandas_dataframe_agent\n",
        "import gradio as gr\n",
        "import pandas as pd\n",
        "import io\n",
        "import contextlib\n",
        "from sqlalchemy import (Engine,create_engine,MetaData,Table,Column,String,Integer,Float,insert,inspect,text)\n",
        "from huggingface_hub import login"
      ],
      "id": "u3Py4qe6PlP7"
    },
    {
      "cell_type": "markdown",
      "source": [
        "To access AzureOpenAI models you'll need to create an Azure account, create a deployment of an Azure OpenAI model, get the name and endpoint for your deployment, get an Azure OpenAI API key and install the langchain-openai integration package.\n",
        "\n",
        "Replace the placeholders with the actual values."
      ],
      "metadata": {
        "id": "F5YuW2LyosRX"
      },
      "id": "F5YuW2LyosRX"
    },
    {
      "cell_type": "code",
      "execution_count": null,
      "metadata": {
        "id": "5ldGnv_jPlP8"
      },
      "outputs": [],
      "source": [
        "os.environ[\"AZURE_OPENAI_ENDPOINT\"] = \"INSERT THE OPENAI ENDPOINT\"\n",
        "os.environ[\"AZURE_OPENAI_API_KEY\"] = \"INSERT YOUR OPENAI API KEY"
      ],
      "id": "5ldGnv_jPlP8"
    },
    {
      "cell_type": "markdown",
      "source": [
        "To set up the Azure OpenAI model choose the name for ```AZURE_DEPLOYMENT_NAME``` and insert ```AZURE_API_VERSION``` (the latest supported version can be found here: https://learn.microsoft.com/en-us/azure/ai-services/openai/reference)."
      ],
      "metadata": {
        "id": "TWDsP2d0qP5q"
      },
      "id": "TWDsP2d0qP5q"
    },
    {
      "cell_type": "code",
      "execution_count": null,
      "metadata": {
        "id": "f5e1b596-4568-4078-ae14-b20d25cba62b"
      },
      "outputs": [],
      "source": [
        "# Load your Azure environment variables\n",
        "AZURE_OPENAI_ENDPOINT = os.getenv(\"AZURE_OPENAI_ENDPOINT\")\n",
        "AZURE_DEPLOYMENT_NAME = \"gpt-4.1\"  # 👈 Change if needed\n",
        "AZURE_API_VERSION = \"2025-01-01-preview\"  # 👈 Use your correct version\n",
        "\n",
        "# Define Azure LLM with streaming enabled\n",
        "model = AzureChatOpenAI(\n",
        "    openai_api_version=AZURE_API_VERSION,\n",
        "    azure_deployment=AZURE_DEPLOYMENT_NAME,\n",
        "    azure_endpoint=AZURE_OPENAI_ENDPOINT,\n",
        "    streaming=True,\n",
        "    callbacks=[StreamingStdOutCallbackHandler()],\n",
        ")\n"
      ],
      "id": "f5e1b596-4568-4078-ae14-b20d25cba62b"
    },
    {
      "cell_type": "markdown",
      "source": [
        "Here you can create a prompt for your model."
      ],
      "metadata": {
        "id": "9cMbxsJuyMPb"
      },
      "id": "9cMbxsJuyMPb"
    },
    {
      "cell_type": "code",
      "source": [
        "# Prompt\n",
        "CSV_PROMPT_PREFIX = \"\"\"\n",
        "Set pandas to show all columns.\n",
        "Get the column names and infer data types.\n",
        "Then attempt to answer the question using multiple methods.\n",
        "Please provide only the Python code required to perform the action, and nothing else.\n",
        "\"\"\"\n",
        "\n",
        "CSV_PROMPT_SUFFIX = \"\"\"\n",
        "- Try at least 2 different methods of calculation or filtering.\n",
        "- Reflect: Do they give the same result?\n",
        "- After performing all necessary actions and analysis with the dataframe, return the answer in clean **Markdown**, include summary table if needed.\n",
        "- Include **Execution Recommendation** and **Web Insight** in the final Markdown.\n",
        "- Always conclude the final Markdown with:\n",
        "\n",
        "### Final Answer\n",
        "\n",
        "Your conclusion here.\n",
        "\n",
        "---\n",
        "\n",
        "### Explanation\n",
        "\n",
        "Mention specific columns you used.\n",
        "Please provide only the Python code required to perform the action, and nothing else until the final Markdown output.\n",
        "\"\"\"\n",
        "\n",
        "SQL_PROMPT = \"\"\"\n",
        "Write code in SQL for extracting data based on the user's question\n",
        "\"\"\""
      ],
      "metadata": {
        "id": "B6dGxRmnyJHS"
      },
      "execution_count": null,
      "outputs": [],
      "id": "B6dGxRmnyJHS"
    },
    {
      "cell_type": "markdown",
      "source": [
        "The following block is responsible for the logic of the agent and the output that it produces."
      ],
      "metadata": {
        "id": "bWNgj913yo8h"
      },
      "id": "bWNgj913yo8h"
    },
    {
      "cell_type": "code",
      "execution_count": null,
      "metadata": {
        "id": "789b46d9-2189-4d3c-8f77-61b4675bf950"
      },
      "outputs": [],
      "source": [
        "# Replace this with your actual LLM setup\n",
        "# Example:\n",
        "# from langchain_openai import AzureChatOpenAI\n",
        "# model = AzureChatOpenAI(...)\n",
        "\n",
        "def sql_code(files, question):\n",
        "    try:\n",
        "        dfs = [pd.read_csv(f.name) for f in files]\n",
        "    except Exception as e:\n",
        "        return f\"❌ Could not read CSVs: {e}\", \"\"\n",
        "    try:\n",
        "        agent = create_pandas_dataframe_agent(\n",
        "        llm=model,\n",
        "        df=df,\n",
        "        verbose=True,\n",
        "        agent_type=AgentType.ZERO_SHOT_REACT_DESCRIPTION,\n",
        "        allow_dangerous_code=True,\n",
        "        handle_parsing_errors=True,  # 👈 this is the fix\n",
        "      )\n",
        "\n",
        "\n",
        "\n",
        "\n",
        "# --- Agent Logic ---\n",
        "def ask_agent(files, question):\n",
        "    try:\n",
        "        dfs = [pd.read_csv(f.name) for f in files]\n",
        "        df = pd.concat(dfs, ignore_index=True)\n",
        "    except Exception as e:\n",
        "        return f\"❌ Could not read CSVs: {e}\", \"\"\n",
        "\n",
        "    try:\n",
        "        agent = create_pandas_dataframe_agent(\n",
        "        llm=model,\n",
        "        df=df,\n",
        "        verbose=True,\n",
        "        agent_type=AgentType.ZERO_SHOT_REACT_DESCRIPTION,\n",
        "        allow_dangerous_code=True,\n",
        "        handle_parsing_errors=True,  # 👈 this is the fix\n",
        "    )\n",
        "\n",
        "\n",
        "        full_prompt = CSV_PROMPT_PREFIX + question + CSV_PROMPT_SUFFIX\n",
        "\n",
        "        buffer = io.StringIO()\n",
        "        with contextlib.redirect_stdout(buffer):\n",
        "            result = agent.invoke(full_prompt)\n",
        "        trace = buffer.getvalue()\n",
        "        output = result[\"output\"]\n",
        "\n",
        "\n",
        "        return output, trace\n",
        "\n",
        "    except Exception as e:\n",
        "        return f\"❌ Agent error: {e}\", \"\"\n"
      ],
      "id": "789b46d9-2189-4d3c-8f77-61b4675bf950"
    },
    {
      "cell_type": "markdown",
      "source": [
        "The block below deals with creating SQL code."
      ],
      "metadata": {
        "id": "buR79jvcJSnf"
      },
      "id": "buR79jvcJSnf"
    },
    {
      "cell_type": "code",
      "source": [
        "os.environ[\"HUGGINGFACE_TOKEN\"] = \"ENTER YOUR HUGGING FACE TOKEN\"\n",
        "login(token = \"ENTER YOUR ACCESS TOKEN\")"
      ],
      "metadata": {
        "id": "cB1l6svSm8-N"
      },
      "id": "cB1l6svSm8-N",
      "execution_count": null,
      "outputs": []
    },
    {
      "cell_type": "code",
      "source": [
        "#function create_db receives a dictionary with table names as a key and tables as values\n",
        "def create_db(files: dict) -> Engine:\n",
        "    engine = create_engine(\"sqlite:///:memory:\")\n",
        "\n",
        "    with engine.begin() as connection:\n",
        "      for name,table in zip(files.keys(),files.values()):\n",
        "        table.to_sql(name,connection,if_exists=\"replace\",index=False)\n",
        "\n",
        "    inspection = inspect(engine)\n",
        "    table_names = inspection.get_table_names()\n",
        "    return engine\n",
        "\n",
        "\n",
        "#Function that returns the query\n",
        "@tool\n",
        "def sql_engine(query: str, engine: Engine) -> str:\n",
        "    \"\"\"Allows you to perform SQL queries on the tables available in the database engine.\n",
        "\n",
        "    First, examine the names of tables in the database in the engine.\n",
        "\n",
        "    After understanding the table structure, choose the most appropriate table and create a correct SQL query for it.\n",
        "\n",
        "    If there is no appropriate answer for the question based on the available tables, state that there might be a mistake in the request or the data.\n",
        "\n",
        "    Returns a string representation of the result.\n",
        "\n",
        "    Args:\n",
        "        query: The query to perform. This should be correct SQL.\n",
        "\n",
        "        engine: Engine that provides connection to the database\n",
        "\n",
        "    \"\"\"\n",
        "    output = \"\"\n",
        "    try:\n",
        "        with engine.connect() as con:\n",
        "            rows = con.execute(text(query))\n",
        "            result_rows = rows.fetchall()\n",
        "            column_names = rows.keys()\n",
        "            output += \", \".join(column_names) + \"\\n\"\n",
        "            for row in result_rows:\n",
        "                output += \", \".join(map(str, row)) + \"\\n\"\n",
        "    except Exception as e:\n",
        "        output = f\"Error executing query: {e}\"\n",
        "    return query"
      ],
      "metadata": {
        "id": "uajELHHaJjUS"
      },
      "id": "uajELHHaJjUS",
      "execution_count": null,
      "outputs": []
    },
    {
      "cell_type": "markdown",
      "source": [
        "The next section creates the GUI and starts the programme."
      ],
      "metadata": {
        "id": "-oxO_Rkq0ZMv"
      },
      "id": "-oxO_Rkq0ZMv"
    },
    {
      "cell_type": "code",
      "source": [
        "# --- Gradio UI ---\n",
        "with gr.Blocks(\n",
        "    css=\"\"\"\n",
        "    body, .gradio-container {\n",
        "        background: #ffffff !important;\n",
        "        color: #1f2937 !important;\n",
        "        font-family: 'Segoe UI', sans-serif;\n",
        "    }\n",
        "\n",
        "    #title {\n",
        "        color: #1f2937 !important;\n",
        "        font-size: 2rem;\n",
        "        font-weight: 600;\n",
        "        text-align: center;\n",
        "        padding-top: 20px;\n",
        "        padding-bottom: 10px;\n",
        "    }\n",
        "\n",
        "    .gr-box, .gr-input, .gr-output, .gr-markdown, .gr-textbox, .gr-file, textarea, input {\n",
        "        background: rgba(0, 0, 0, 0.04) !important;\n",
        "        border: 1px solid rgba(0, 0, 0, 0.1);\n",
        "        border-radius: 12px !important;\n",
        "        color: #1f2937 !important;\n",
        "    }\n",
        "\n",
        "    textarea::placeholder, input::placeholder {\n",
        "        color: rgba(31, 41, 55, 0.6) !important;\n",
        "    }\n",
        "\n",
        "    button {\n",
        "        background: rgba(0, 0, 0, 0.07) !important;\n",
        "        color: #1f2937 !important;\n",
        "        border: 1px solid rgba(0, 0, 0, 0.15) !important;\n",
        "        border-radius: 8px !important;\n",
        "    }\n",
        "\n",
        "    button:hover {\n",
        "        background: rgba(0, 0, 0, 0.15) !important;\n",
        "    }\n",
        "    \"\"\"\n",
        ") as demo:\n",
        "\n",
        "    gr.Markdown(\"<h2 id='title'>📊 NexDatawork Data Agent</h2>\")\n",
        "\n",
        "    with gr.Column():\n",
        "        result_display = gr.Markdown(label=\"📌 Report Output (Markdown)\")\n",
        "        trace_display = gr.Textbox(label=\"🛠️ Data Agent Reasoning - Your Explainable Agent\", lines=20)\n",
        "\n",
        "    with gr.Row(equal_height=True):\n",
        "        file_input = gr.File(label=\"📁 Upload CSV(s)\", file_types=[\".csv\"], file_count=\"multiple\")\n",
        "        with gr.Column():\n",
        "            question_input = gr.Textbox(\n",
        "        label=\"💬 Ask Your Data\",\n",
        "        placeholder=\"e.g., What is the trend for revenue over time?\",\n",
        "        lines=2\n",
        "    )\n",
        "            sql_code = gr.Textbox(label=\"SQL code\",placeholder='SQL code will appear here',lines=2)\n",
        "\n",
        "\n",
        "    ask_button = gr.Button(\"💡 Analyze\")\n",
        "\n",
        "    ask_button.click(\n",
        "        fn=ask_agent,\n",
        "        inputs=[file_input, question_input],\n",
        "        outputs=[result_display, trace_display]\n",
        "    )\n",
        "\n",
        "demo.launch(share=True)"
      ],
      "metadata": {
        "colab": {
          "base_uri": "https://localhost:8080/",
          "height": 591
        },
        "outputId": "e6ff2cac-90fc-44ea-bad5-20a66cccab56",
        "id": "QXUpnFMdPlQA"
      },
      "execution_count": null,
      "outputs": [
        {
          "output_type": "stream",
          "name": "stdout",
          "text": [
            "Colab notebook detected. To show errors in colab notebook, set debug=True in launch()\n",
            "* Running on public URL: https://1b7614b12579466c16.gradio.live\n",
            "\n",
            "This share link expires in 1 week. For free permanent hosting and GPU upgrades, run `gradio deploy` from the terminal in the working directory to deploy to Hugging Face Spaces (https://huggingface.co/spaces)\n"
          ]
        },
        {
          "output_type": "display_data",
          "data": {
            "text/plain": [
              "<IPython.core.display.HTML object>"
            ],
            "text/html": [
              "<div><iframe src=\"https://1b7614b12579466c16.gradio.live\" width=\"100%\" height=\"500\" allow=\"autoplay; camera; microphone; clipboard-read; clipboard-write;\" frameborder=\"0\" allowfullscreen></iframe></div>"
            ]
          },
          "metadata": {}
        },
        {
          "output_type": "execute_result",
          "data": {
            "text/plain": []
          },
          "metadata": {},
          "execution_count": 13
        }
      ],
      "id": "QXUpnFMdPlQA"
    },
    {
      "cell_type": "code",
      "source": [],
      "metadata": {
        "id": "fM4cO6jTgXlu"
      },
      "id": "fM4cO6jTgXlu",
      "execution_count": null,
      "outputs": []
    }
  ],
  "metadata": {
    "kernelspec": {
      "display_name": "Python 3.10 (LangChain)",
      "language": "python",
      "name": "langchain310"
    },
    "language_info": {
      "codemirror_mode": {
        "name": "ipython",
        "version": 3
      },
      "file_extension": ".py",
      "mimetype": "text/x-python",
      "name": "python",
      "nbconvert_exporter": "python",
      "pygments_lexer": "ipython3",
      "version": "3.10.16"
    },
    "colab": {
      "provenance": []
    }
  },
  "nbformat": 4,
  "nbformat_minor": 5
}